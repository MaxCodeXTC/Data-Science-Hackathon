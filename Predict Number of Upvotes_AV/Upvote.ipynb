{
  "nbformat": 4,
  "nbformat_minor": 0,
  "metadata": {
    "colab": {
      "name": "Upvote.ipynb",
      "provenance": [],
      "collapsed_sections": []
    },
    "kernelspec": {
      "name": "python3",
      "display_name": "Python 3"
    }
  },
  "cells": [
    {
      "cell_type": "markdown",
      "metadata": {
        "id": "mdIsXOmgAsOP",
        "colab_type": "text"
      },
      "source": [
        "**Practice Problem: Predict Number of Upvotes**\n",
        "An online question and answer platform has hired you as a data scientist to identify the best question authors on the platform. This identification will bring more insight into increasing the user engagement. Given the tag of the question, number of views received, number of answers, username and reputation of the question author, the problem requires you to predict the upvote count that the question will receive.\n",
        "\n",
        "**link** : - https://datahack.analyticsvidhya.com/contest/enigma-codefest-machine-learning-1/"
      ]
    },
    {
      "cell_type": "markdown",
      "metadata": {
        "id": "s8AyOQTdBH6o",
        "colab_type": "text"
      },
      "source": [
        "**Himanshu Tripathi**"
      ]
    },
    {
      "cell_type": "code",
      "metadata": {
        "id": "4TBC-YZApH2z",
        "colab_type": "code",
        "colab": {}
      },
      "source": [
        "import pandas as pd\n",
        "import numpy as np\n",
        "import matplotlib.pyplot as plt\n",
        "import seaborn as sns"
      ],
      "execution_count": 0,
      "outputs": []
    },
    {
      "cell_type": "code",
      "metadata": {
        "id": "npY22b7yr5GK",
        "colab_type": "code",
        "colab": {}
      },
      "source": [
        "train = pd.read_csv('train_NIR5Yl1.csv')\n",
        "test = pd.read_csv('test_8i3B3FC.csv')"
      ],
      "execution_count": 0,
      "outputs": []
    },
    {
      "cell_type": "code",
      "metadata": {
        "id": "ElZjSgWkr5oZ",
        "colab_type": "code",
        "colab": {
          "base_uri": "https://localhost:8080/",
          "height": 204
        },
        "outputId": "0ead3b24-0d1a-4320-d266-2ac3ef781c53"
      },
      "source": [
        "train.head()"
      ],
      "execution_count": 4,
      "outputs": [
        {
          "output_type": "execute_result",
          "data": {
            "text/html": [
              "<div>\n",
              "<style scoped>\n",
              "    .dataframe tbody tr th:only-of-type {\n",
              "        vertical-align: middle;\n",
              "    }\n",
              "\n",
              "    .dataframe tbody tr th {\n",
              "        vertical-align: top;\n",
              "    }\n",
              "\n",
              "    .dataframe thead th {\n",
              "        text-align: right;\n",
              "    }\n",
              "</style>\n",
              "<table border=\"1\" class=\"dataframe\">\n",
              "  <thead>\n",
              "    <tr style=\"text-align: right;\">\n",
              "      <th></th>\n",
              "      <th>ID</th>\n",
              "      <th>Tag</th>\n",
              "      <th>Reputation</th>\n",
              "      <th>Answers</th>\n",
              "      <th>Username</th>\n",
              "      <th>Views</th>\n",
              "      <th>Upvotes</th>\n",
              "    </tr>\n",
              "  </thead>\n",
              "  <tbody>\n",
              "    <tr>\n",
              "      <th>0</th>\n",
              "      <td>52664</td>\n",
              "      <td>a</td>\n",
              "      <td>3942.0</td>\n",
              "      <td>2.0</td>\n",
              "      <td>155623</td>\n",
              "      <td>7855.0</td>\n",
              "      <td>42.0</td>\n",
              "    </tr>\n",
              "    <tr>\n",
              "      <th>1</th>\n",
              "      <td>327662</td>\n",
              "      <td>a</td>\n",
              "      <td>26046.0</td>\n",
              "      <td>12.0</td>\n",
              "      <td>21781</td>\n",
              "      <td>55801.0</td>\n",
              "      <td>1175.0</td>\n",
              "    </tr>\n",
              "    <tr>\n",
              "      <th>2</th>\n",
              "      <td>468453</td>\n",
              "      <td>c</td>\n",
              "      <td>1358.0</td>\n",
              "      <td>4.0</td>\n",
              "      <td>56177</td>\n",
              "      <td>8067.0</td>\n",
              "      <td>60.0</td>\n",
              "    </tr>\n",
              "    <tr>\n",
              "      <th>3</th>\n",
              "      <td>96996</td>\n",
              "      <td>a</td>\n",
              "      <td>264.0</td>\n",
              "      <td>3.0</td>\n",
              "      <td>168793</td>\n",
              "      <td>27064.0</td>\n",
              "      <td>9.0</td>\n",
              "    </tr>\n",
              "    <tr>\n",
              "      <th>4</th>\n",
              "      <td>131465</td>\n",
              "      <td>c</td>\n",
              "      <td>4271.0</td>\n",
              "      <td>4.0</td>\n",
              "      <td>112223</td>\n",
              "      <td>13986.0</td>\n",
              "      <td>83.0</td>\n",
              "    </tr>\n",
              "  </tbody>\n",
              "</table>\n",
              "</div>"
            ],
            "text/plain": [
              "       ID Tag  Reputation  Answers  Username    Views  Upvotes\n",
              "0   52664   a      3942.0      2.0    155623   7855.0     42.0\n",
              "1  327662   a     26046.0     12.0     21781  55801.0   1175.0\n",
              "2  468453   c      1358.0      4.0     56177   8067.0     60.0\n",
              "3   96996   a       264.0      3.0    168793  27064.0      9.0\n",
              "4  131465   c      4271.0      4.0    112223  13986.0     83.0"
            ]
          },
          "metadata": {
            "tags": []
          },
          "execution_count": 4
        }
      ]
    },
    {
      "cell_type": "markdown",
      "metadata": {
        "id": "g8wZt_uRuN6k",
        "colab_type": "text"
      },
      "source": [
        "**Check For Null Values**\n",
        "\n"
      ]
    },
    {
      "cell_type": "code",
      "metadata": {
        "id": "1lTBAsJ8uLOI",
        "colab_type": "code",
        "colab": {
          "base_uri": "https://localhost:8080/",
          "height": 289
        },
        "outputId": "fb94640d-9c60-4928-e6ac-9a70d717662f"
      },
      "source": [
        "# check in Train data\n",
        "print(train.isnull().sum())\n",
        "print(\"*\"*50)\n",
        "# check in Train data\n",
        "print(test.isnull().sum())"
      ],
      "execution_count": 5,
      "outputs": [
        {
          "output_type": "stream",
          "text": [
            "ID            0\n",
            "Tag           0\n",
            "Reputation    0\n",
            "Answers       0\n",
            "Username      0\n",
            "Views         0\n",
            "Upvotes       0\n",
            "dtype: int64\n",
            "**************************************************\n",
            "ID            0\n",
            "Tag           0\n",
            "Reputation    0\n",
            "Answers       0\n",
            "Username      0\n",
            "Views         0\n",
            "dtype: int64\n"
          ],
          "name": "stdout"
        }
      ]
    },
    {
      "cell_type": "code",
      "metadata": {
        "id": "E5GGjXl8uLTJ",
        "colab_type": "code",
        "colab": {
          "base_uri": "https://localhost:8080/",
          "height": 297
        },
        "outputId": "8521fd0e-ae0c-435d-df15-c3b14518942b"
      },
      "source": [
        "train.describe()"
      ],
      "execution_count": 6,
      "outputs": [
        {
          "output_type": "execute_result",
          "data": {
            "text/html": [
              "<div>\n",
              "<style scoped>\n",
              "    .dataframe tbody tr th:only-of-type {\n",
              "        vertical-align: middle;\n",
              "    }\n",
              "\n",
              "    .dataframe tbody tr th {\n",
              "        vertical-align: top;\n",
              "    }\n",
              "\n",
              "    .dataframe thead th {\n",
              "        text-align: right;\n",
              "    }\n",
              "</style>\n",
              "<table border=\"1\" class=\"dataframe\">\n",
              "  <thead>\n",
              "    <tr style=\"text-align: right;\">\n",
              "      <th></th>\n",
              "      <th>ID</th>\n",
              "      <th>Reputation</th>\n",
              "      <th>Answers</th>\n",
              "      <th>Username</th>\n",
              "      <th>Views</th>\n",
              "      <th>Upvotes</th>\n",
              "    </tr>\n",
              "  </thead>\n",
              "  <tbody>\n",
              "    <tr>\n",
              "      <th>count</th>\n",
              "      <td>330045.000000</td>\n",
              "      <td>3.300450e+05</td>\n",
              "      <td>330045.000000</td>\n",
              "      <td>330045.000000</td>\n",
              "      <td>3.300450e+05</td>\n",
              "      <td>330045.000000</td>\n",
              "    </tr>\n",
              "    <tr>\n",
              "      <th>mean</th>\n",
              "      <td>235748.682789</td>\n",
              "      <td>7.773147e+03</td>\n",
              "      <td>3.917672</td>\n",
              "      <td>81442.888803</td>\n",
              "      <td>2.964507e+04</td>\n",
              "      <td>337.505358</td>\n",
              "    </tr>\n",
              "    <tr>\n",
              "      <th>std</th>\n",
              "      <td>136039.418471</td>\n",
              "      <td>2.706141e+04</td>\n",
              "      <td>3.579515</td>\n",
              "      <td>49215.100730</td>\n",
              "      <td>8.095646e+04</td>\n",
              "      <td>3592.441135</td>\n",
              "    </tr>\n",
              "    <tr>\n",
              "      <th>min</th>\n",
              "      <td>1.000000</td>\n",
              "      <td>0.000000e+00</td>\n",
              "      <td>0.000000</td>\n",
              "      <td>0.000000</td>\n",
              "      <td>9.000000e+00</td>\n",
              "      <td>0.000000</td>\n",
              "    </tr>\n",
              "    <tr>\n",
              "      <th>25%</th>\n",
              "      <td>117909.000000</td>\n",
              "      <td>2.820000e+02</td>\n",
              "      <td>2.000000</td>\n",
              "      <td>39808.000000</td>\n",
              "      <td>2.594000e+03</td>\n",
              "      <td>8.000000</td>\n",
              "    </tr>\n",
              "    <tr>\n",
              "      <th>50%</th>\n",
              "      <td>235699.000000</td>\n",
              "      <td>1.236000e+03</td>\n",
              "      <td>3.000000</td>\n",
              "      <td>79010.000000</td>\n",
              "      <td>8.954000e+03</td>\n",
              "      <td>28.000000</td>\n",
              "    </tr>\n",
              "    <tr>\n",
              "      <th>75%</th>\n",
              "      <td>353620.000000</td>\n",
              "      <td>5.118000e+03</td>\n",
              "      <td>5.000000</td>\n",
              "      <td>122559.000000</td>\n",
              "      <td>2.687000e+04</td>\n",
              "      <td>107.000000</td>\n",
              "    </tr>\n",
              "    <tr>\n",
              "      <th>max</th>\n",
              "      <td>471493.000000</td>\n",
              "      <td>1.042428e+06</td>\n",
              "      <td>76.000000</td>\n",
              "      <td>175738.000000</td>\n",
              "      <td>5.231058e+06</td>\n",
              "      <td>615278.000000</td>\n",
              "    </tr>\n",
              "  </tbody>\n",
              "</table>\n",
              "</div>"
            ],
            "text/plain": [
              "                  ID    Reputation  ...         Views        Upvotes\n",
              "count  330045.000000  3.300450e+05  ...  3.300450e+05  330045.000000\n",
              "mean   235748.682789  7.773147e+03  ...  2.964507e+04     337.505358\n",
              "std    136039.418471  2.706141e+04  ...  8.095646e+04    3592.441135\n",
              "min         1.000000  0.000000e+00  ...  9.000000e+00       0.000000\n",
              "25%    117909.000000  2.820000e+02  ...  2.594000e+03       8.000000\n",
              "50%    235699.000000  1.236000e+03  ...  8.954000e+03      28.000000\n",
              "75%    353620.000000  5.118000e+03  ...  2.687000e+04     107.000000\n",
              "max    471493.000000  1.042428e+06  ...  5.231058e+06  615278.000000\n",
              "\n",
              "[8 rows x 6 columns]"
            ]
          },
          "metadata": {
            "tags": []
          },
          "execution_count": 6
        }
      ]
    },
    {
      "cell_type": "markdown",
      "metadata": {
        "id": "5bswHm9HuZt-",
        "colab_type": "text"
      },
      "source": [
        "**EDA**"
      ]
    },
    {
      "cell_type": "code",
      "metadata": {
        "id": "rT-wKiZzuLbG",
        "colab_type": "code",
        "colab": {
          "base_uri": "https://localhost:8080/",
          "height": 295
        },
        "outputId": "e4525e6a-0339-4b21-fcf7-62a154c5f5f5"
      },
      "source": [
        "sns.barplot(x=train['Tag'],y=train['Upvotes'])\n",
        "plt.title(\"Votes Counts with respect to Tag\");\n",
        "\n",
        "# With this graph we can see that the Tag J has most Upvotes "
      ],
      "execution_count": 102,
      "outputs": [
        {
          "output_type": "display_data",
          "data": {
            "image/png": "[encoded data removed]",
            "text/plain": [
              "<Figure size 432x288 with 1 Axes>"
            ]
          },
          "metadata": {
            "tags": []
          }
        }
      ]
    },
    {
      "cell_type": "code",
      "metadata": {
        "id": "d7S5Ef_BuLmJ",
        "colab_type": "code",
        "colab": {
          "base_uri": "https://localhost:8080/",
          "height": 295
        },
        "outputId": "62454218-5a58-4ec8-849f-754285e4e749"
      },
      "source": [
        "sns.barplot(x=train['Tag'],y=train['Answers'])\n",
        "plt.title(\"Answers Counts with respect to Tag\");"
      ],
      "execution_count": 8,
      "outputs": [
        {
          "output_type": "display_data",
          "data": {
            "image/png": "[encoded data removed]",
            "text/plain": [
              "<Figure size 432x288 with 1 Axes>"
            ]
          },
          "metadata": {
            "tags": []
          }
        }
      ]
    },
    {
      "cell_type": "code",
      "metadata": {
        "id": "xDLCg1xeuLw5",
        "colab_type": "code",
        "colab": {
          "base_uri": "https://localhost:8080/",
          "height": 295
        },
        "outputId": "fae6106d-6e9d-4987-ccc8-136a7861b9d5"
      },
      "source": [
        "sns.countplot(train['Tag'])\n",
        "plt.title('Tag counts');"
      ],
      "execution_count": 9,
      "outputs": [
        {
          "output_type": "display_data",
          "data": {
            "image/png": "[encoded data removed]",
            "text/plain": [
              "<Figure size 432x288 with 1 Axes>"
            ]
          },
          "metadata": {
            "tags": []
          }
        }
      ]
    },
    {
      "cell_type": "code",
      "metadata": {
        "id": "UaLGNfubulpI",
        "colab_type": "code",
        "colab": {
          "base_uri": "https://localhost:8080/",
          "height": 293
        },
        "outputId": "7303ed59-78a2-48e5-cc0e-07d2dc397d66"
      },
      "source": [
        "sns.stripplot(data=train)"
      ],
      "execution_count": 10,
      "outputs": [
        {
          "output_type": "execute_result",
          "data": {
            "text/plain": [
              "<matplotlib.axes._subplots.AxesSubplot at 0x7f547d8506a0>"
            ]
          },
          "metadata": {
            "tags": []
          },
          "execution_count": 10
        },
        {
          "output_type": "display_data",
          "data": {
            "image/png": "[encoded data removed]",
            "text/plain": [
              "<Figure size 432x288 with 1 Axes>"
            ]
          },
          "metadata": {
            "tags": []
          }
        }
      ]
    },
    {
      "cell_type": "markdown",
      "metadata": {
        "id": "7s4QYjZVuspK",
        "colab_type": "text"
      },
      "source": [
        "**Check for the values which is more correlated with Upvotes**"
      ]
    },
    {
      "cell_type": "code",
      "metadata": {
        "id": "yfAx5TuSulx1",
        "colab_type": "code",
        "colab": {
          "base_uri": "https://localhost:8080/",
          "height": 331
        },
        "outputId": "4045fdfc-5c71-4f63-954a-96540cc37de4"
      },
      "source": [
        "sns.heatmap(train.corr())"
      ],
      "execution_count": 11,
      "outputs": [
        {
          "output_type": "execute_result",
          "data": {
            "text/plain": [
              "<matplotlib.axes._subplots.AxesSubplot at 0x7f547d2aeda0>"
            ]
          },
          "metadata": {
            "tags": []
          },
          "execution_count": 11
        },
        {
          "output_type": "display_data",
          "data": {
            "image/png": "[encoded data removed]",
            "text/plain": [
              "<Figure size 432x288 with 2 Axes>"
            ]
          },
          "metadata": {
            "tags": []
          }
        }
      ]
    },
    {
      "cell_type": "markdown",
      "metadata": {
        "id": "8-RPyhIT9106",
        "colab_type": "text"
      },
      "source": [
        "**With The help or correlation matrix we can see that ID and Username values with resepct to Upvotes is less so we can delete these columns**"
      ]
    },
    {
      "cell_type": "markdown",
      "metadata": {
        "id": "UhXiGe-O-QIA",
        "colab_type": "text"
      },
      "source": [
        "First I try with the manual values for the encoding the catagorical values.\n",
        "But not get much good accuracy..."
      ]
    },
    {
      "cell_type": "code",
      "metadata": {
        "id": "UqltVwghul4z",
        "colab_type": "code",
        "colab": {}
      },
      "source": [
        "# for test test also\n",
        "test['Tag'] = test['Tag'].map({\n",
        "    'a':0,\n",
        "    'c':1,\n",
        "    'r':2,\n",
        "    'j':3,\n",
        "    'p':4,\n",
        "    's':5,\n",
        "    'h':6,\n",
        "    'o':7,\n",
        "    'i':8,\n",
        "    'x':9\n",
        "})"
      ],
      "execution_count": 0,
      "outputs": []
    },
    {
      "cell_type": "code",
      "metadata": {
        "id": "gmyIu4C_ul-L",
        "colab_type": "code",
        "colab": {}
      },
      "source": [
        "train['Tag'] = train['Tag'].map({\n",
        "    'a':0,\n",
        "    'c':1,\n",
        "    'r':2,\n",
        "    'j':3,\n",
        "    'p':4,\n",
        "    's':5,\n",
        "    'h':6,\n",
        "    'o':7,\n",
        "    'i':8,\n",
        "    'x':9\n",
        "})\n"
      ],
      "execution_count": 0,
      "outputs": []
    },
    {
      "cell_type": "markdown",
      "metadata": {
        "id": "GwUDgySt-jkO",
        "colab_type": "text"
      },
      "source": [
        "**Then Use LabelEncoder for encoding**\n"
      ]
    },
    {
      "cell_type": "code",
      "metadata": {
        "id": "61v8bXFR8ATf",
        "colab_type": "code",
        "colab": {}
      },
      "source": [
        "from sklearn.preprocessing import LabelEncoder"
      ],
      "execution_count": 0,
      "outputs": []
    },
    {
      "cell_type": "code",
      "metadata": {
        "id": "bk5cC-mb78w5",
        "colab_type": "code",
        "colab": {}
      },
      "source": [
        "labelencoder_X = LabelEncoder()\n",
        "train['Tag'] = labelencoder_X.fit_transform(train['Tag'])"
      ],
      "execution_count": 0,
      "outputs": []
    },
    {
      "cell_type": "code",
      "metadata": {
        "id": "aHn2WTr28TV-",
        "colab_type": "code",
        "colab": {}
      },
      "source": [
        "test['Tag'] = labelencoder_X.fit_transform(test['Tag'])"
      ],
      "execution_count": 0,
      "outputs": []
    },
    {
      "cell_type": "code",
      "metadata": {
        "id": "s1MkIfw8uLvI",
        "colab_type": "code",
        "colab": {}
      },
      "source": [
        "train = train.drop(['ID','Username'],axis=1)"
      ],
      "execution_count": 0,
      "outputs": []
    },
    {
      "cell_type": "code",
      "metadata": {
        "id": "xt5d5m_1uLsJ",
        "colab_type": "code",
        "colab": {}
      },
      "source": [
        "ID = test['ID']"
      ],
      "execution_count": 0,
      "outputs": []
    },
    {
      "cell_type": "code",
      "metadata": {
        "id": "y6dEThDyuLjq",
        "colab_type": "code",
        "colab": {}
      },
      "source": [
        "test = test.drop(['Username','ID'],axis=1)"
      ],
      "execution_count": 0,
      "outputs": []
    },
    {
      "cell_type": "code",
      "metadata": {
        "id": "122eSsB-uLh6",
        "colab_type": "code",
        "colab": {
          "base_uri": "https://localhost:8080/",
          "height": 204
        },
        "outputId": "5cd4dcbc-eb90-4f5d-a805-8d78df8d753d"
      },
      "source": [
        "train.head()"
      ],
      "execution_count": 89,
      "outputs": [
        {
          "output_type": "execute_result",
          "data": {
            "text/html": [
              "<div>\n",
              "<style scoped>\n",
              "    .dataframe tbody tr th:only-of-type {\n",
              "        vertical-align: middle;\n",
              "    }\n",
              "\n",
              "    .dataframe tbody tr th {\n",
              "        vertical-align: top;\n",
              "    }\n",
              "\n",
              "    .dataframe thead th {\n",
              "        text-align: right;\n",
              "    }\n",
              "</style>\n",
              "<table border=\"1\" class=\"dataframe\">\n",
              "  <thead>\n",
              "    <tr style=\"text-align: right;\">\n",
              "      <th></th>\n",
              "      <th>Tag</th>\n",
              "      <th>Reputation</th>\n",
              "      <th>Answers</th>\n",
              "      <th>Views</th>\n",
              "      <th>Upvotes</th>\n",
              "    </tr>\n",
              "  </thead>\n",
              "  <tbody>\n",
              "    <tr>\n",
              "      <th>0</th>\n",
              "      <td>0</td>\n",
              "      <td>3942.0</td>\n",
              "      <td>2.0</td>\n",
              "      <td>7855.0</td>\n",
              "      <td>42.0</td>\n",
              "    </tr>\n",
              "    <tr>\n",
              "      <th>1</th>\n",
              "      <td>0</td>\n",
              "      <td>26046.0</td>\n",
              "      <td>12.0</td>\n",
              "      <td>55801.0</td>\n",
              "      <td>1175.0</td>\n",
              "    </tr>\n",
              "    <tr>\n",
              "      <th>2</th>\n",
              "      <td>1</td>\n",
              "      <td>1358.0</td>\n",
              "      <td>4.0</td>\n",
              "      <td>8067.0</td>\n",
              "      <td>60.0</td>\n",
              "    </tr>\n",
              "    <tr>\n",
              "      <th>3</th>\n",
              "      <td>0</td>\n",
              "      <td>264.0</td>\n",
              "      <td>3.0</td>\n",
              "      <td>27064.0</td>\n",
              "      <td>9.0</td>\n",
              "    </tr>\n",
              "    <tr>\n",
              "      <th>4</th>\n",
              "      <td>1</td>\n",
              "      <td>4271.0</td>\n",
              "      <td>4.0</td>\n",
              "      <td>13986.0</td>\n",
              "      <td>83.0</td>\n",
              "    </tr>\n",
              "  </tbody>\n",
              "</table>\n",
              "</div>"
            ],
            "text/plain": [
              "   Tag  Reputation  Answers    Views  Upvotes\n",
              "0    0      3942.0      2.0   7855.0     42.0\n",
              "1    0     26046.0     12.0  55801.0   1175.0\n",
              "2    1      1358.0      4.0   8067.0     60.0\n",
              "3    0       264.0      3.0  27064.0      9.0\n",
              "4    1      4271.0      4.0  13986.0     83.0"
            ]
          },
          "metadata": {
            "tags": []
          },
          "execution_count": 89
        }
      ]
    },
    {
      "cell_type": "code",
      "metadata": {
        "id": "U_Br4-eR5-a4",
        "colab_type": "code",
        "colab": {
          "base_uri": "https://localhost:8080/",
          "height": 204
        },
        "outputId": "cc097f03-d66b-4167-898f-b0660050f515"
      },
      "source": [
        "test.head()"
      ],
      "execution_count": 93,
      "outputs": [
        {
          "output_type": "execute_result",
          "data": {
            "text/html": [
              "<div>\n",
              "<style scoped>\n",
              "    .dataframe tbody tr th:only-of-type {\n",
              "        vertical-align: middle;\n",
              "    }\n",
              "\n",
              "    .dataframe tbody tr th {\n",
              "        vertical-align: top;\n",
              "    }\n",
              "\n",
              "    .dataframe thead th {\n",
              "        text-align: right;\n",
              "    }\n",
              "</style>\n",
              "<table border=\"1\" class=\"dataframe\">\n",
              "  <thead>\n",
              "    <tr style=\"text-align: right;\">\n",
              "      <th></th>\n",
              "      <th>Tag</th>\n",
              "      <th>Reputation</th>\n",
              "      <th>Answers</th>\n",
              "      <th>Views</th>\n",
              "    </tr>\n",
              "  </thead>\n",
              "  <tbody>\n",
              "    <tr>\n",
              "      <th>0</th>\n",
              "      <td>0</td>\n",
              "      <td>5645.0</td>\n",
              "      <td>3.0</td>\n",
              "      <td>33200.0</td>\n",
              "    </tr>\n",
              "    <tr>\n",
              "      <th>1</th>\n",
              "      <td>1</td>\n",
              "      <td>24511.0</td>\n",
              "      <td>6.0</td>\n",
              "      <td>2730.0</td>\n",
              "    </tr>\n",
              "    <tr>\n",
              "      <th>2</th>\n",
              "      <td>3</td>\n",
              "      <td>927.0</td>\n",
              "      <td>1.0</td>\n",
              "      <td>21167.0</td>\n",
              "    </tr>\n",
              "    <tr>\n",
              "      <th>3</th>\n",
              "      <td>3</td>\n",
              "      <td>21.0</td>\n",
              "      <td>6.0</td>\n",
              "      <td>18528.0</td>\n",
              "    </tr>\n",
              "    <tr>\n",
              "      <th>4</th>\n",
              "      <td>3</td>\n",
              "      <td>4475.0</td>\n",
              "      <td>10.0</td>\n",
              "      <td>57240.0</td>\n",
              "    </tr>\n",
              "  </tbody>\n",
              "</table>\n",
              "</div>"
            ],
            "text/plain": [
              "   Tag  Reputation  Answers    Views\n",
              "0    0      5645.0      3.0  33200.0\n",
              "1    1     24511.0      6.0   2730.0\n",
              "2    3       927.0      1.0  21167.0\n",
              "3    3        21.0      6.0  18528.0\n",
              "4    3      4475.0     10.0  57240.0"
            ]
          },
          "metadata": {
            "tags": []
          },
          "execution_count": 93
        }
      ]
    },
    {
      "cell_type": "code",
      "metadata": {
        "id": "gt3v1Ts4u9l8",
        "colab_type": "code",
        "colab": {}
      },
      "source": [
        "from sklearn.preprocessing import MinMaxScaler\n",
        "\n",
        "X_train = train.drop(\"Upvotes\", axis=1)\n",
        "Y_train = train[\"Upvotes\"].values\n",
        "\n",
        "# for the testing \n",
        "X_test = test\n",
        "# min max scaler\n",
        "min_max_scaler = MinMaxScaler()\n",
        "np_scaled = min_max_scaler.fit_transform(X_train)\n",
        "X_train = pd.DataFrame(np_scaled)\n",
        "\n",
        "min_max_scaler = MinMaxScaler()\n",
        "np_scaled = min_max_scaler.fit_transform(X_test)\n",
        "X_test = pd.DataFrame(np_scaled)"
      ],
      "execution_count": 0,
      "outputs": []
    },
    {
      "cell_type": "code",
      "metadata": {
        "id": "0DNnXLQVu9zy",
        "colab_type": "code",
        "colab": {
          "base_uri": "https://localhost:8080/",
          "height": 34
        },
        "outputId": "50502f66-acb0-4afe-8ec2-12317c7dd5cc"
      },
      "source": [
        "X_train.shape, Y_train.shape, X_test.shape"
      ],
      "execution_count": 95,
      "outputs": [
        {
          "output_type": "execute_result",
          "data": {
            "text/plain": [
              "((330045, 4), (330045,), (141448, 4))"
            ]
          },
          "metadata": {
            "tags": []
          },
          "execution_count": 95
        }
      ]
    },
    {
      "cell_type": "markdown",
      "metadata": {
        "id": "NDkWxkkgvLHn",
        "colab_type": "text"
      },
      "source": [
        "**Polynomial Regression**\n"
      ]
    },
    {
      "cell_type": "code",
      "metadata": {
        "id": "ucyvv1FlzgrY",
        "colab_type": "code",
        "colab": {}
      },
      "source": [
        "from sklearn.linear_model import LinearRegression \n",
        "from sklearn import linear_model"
      ],
      "execution_count": 0,
      "outputs": []
    },
    {
      "cell_type": "code",
      "metadata": {
        "id": "b7hQvP16u-Vp",
        "colab_type": "code",
        "colab": {}
      },
      "source": [
        "from sklearn.preprocessing import PolynomialFeatures "
      ],
      "execution_count": 0,
      "outputs": []
    },
    {
      "cell_type": "code",
      "metadata": {
        "id": "RXD8tAyXwTMH",
        "colab_type": "code",
        "colab": {
          "base_uri": "https://localhost:8080/",
          "height": 68
        },
        "outputId": "d7a116b5-d8df-422b-ca09-66de47ffb092"
      },
      "source": [
        "poly_reg = PolynomialFeatures(degree = 5,interaction_only=False, include_bias=True)\n",
        "X_poly = poly_reg.fit_transform(X_train)\n",
        "poly_reg.fit(X_train, Y_train)\n",
        "lin_reg_1 = linear_model.LassoLars(alpha=0.021,max_iter=150)\n",
        "lin_reg_1.fit(X_poly, Y_train)\n"
      ],
      "execution_count": 96,
      "outputs": [
        {
          "output_type": "execute_result",
          "data": {
            "text/plain": [
              "LassoLars(alpha=0.021, copy_X=True, eps=2.220446049250313e-16,\n",
              "          fit_intercept=True, fit_path=True, max_iter=150, normalize=True,\n",
              "          positive=False, precompute='auto', verbose=False)"
            ]
          },
          "metadata": {
            "tags": []
          },
          "execution_count": 96
        }
      ]
    },
    {
      "cell_type": "code",
      "metadata": {
        "id": "wU2VL1KDu-S8",
        "colab_type": "code",
        "colab": {}
      },
      "source": [
        "# predicitng \n",
        "pred_val = lin_reg_1.predict(poly_reg.fit_transform(X_test))"
      ],
      "execution_count": 0,
      "outputs": []
    },
    {
      "cell_type": "code",
      "metadata": {
        "id": "6afPCWrZu-P4",
        "colab_type": "code",
        "colab": {}
      },
      "source": [
        "submission = pd.DataFrame({\n",
        "    'ID':ID,\n",
        "    \"Upvotes\":pred_val\n",
        "})"
      ],
      "execution_count": 0,
      "outputs": []
    },
    {
      "cell_type": "code",
      "metadata": {
        "id": "wVHIPlHgu-Mz",
        "colab_type": "code",
        "colab": {
          "base_uri": "https://localhost:8080/",
          "height": 204
        },
        "outputId": "f492f9cb-c027-40c6-b3eb-6a9f4c9feb59"
      },
      "source": [
        "submission.head()"
      ],
      "execution_count": 99,
      "outputs": [
        {
          "output_type": "execute_result",
          "data": {
            "text/html": [
              "<div>\n",
              "<style scoped>\n",
              "    .dataframe tbody tr th:only-of-type {\n",
              "        vertical-align: middle;\n",
              "    }\n",
              "\n",
              "    .dataframe tbody tr th {\n",
              "        vertical-align: top;\n",
              "    }\n",
              "\n",
              "    .dataframe thead th {\n",
              "        text-align: right;\n",
              "    }\n",
              "</style>\n",
              "<table border=\"1\" class=\"dataframe\">\n",
              "  <thead>\n",
              "    <tr style=\"text-align: right;\">\n",
              "      <th></th>\n",
              "      <th>ID</th>\n",
              "      <th>Upvotes</th>\n",
              "    </tr>\n",
              "  </thead>\n",
              "  <tbody>\n",
              "    <tr>\n",
              "      <th>0</th>\n",
              "      <td>366953</td>\n",
              "      <td>217.066702</td>\n",
              "    </tr>\n",
              "    <tr>\n",
              "      <th>1</th>\n",
              "      <td>71864</td>\n",
              "      <td>94.530127</td>\n",
              "    </tr>\n",
              "    <tr>\n",
              "      <th>2</th>\n",
              "      <td>141692</td>\n",
              "      <td>43.460356</td>\n",
              "    </tr>\n",
              "    <tr>\n",
              "      <th>3</th>\n",
              "      <td>316833</td>\n",
              "      <td>24.003326</td>\n",
              "    </tr>\n",
              "    <tr>\n",
              "      <th>4</th>\n",
              "      <td>440445</td>\n",
              "      <td>296.334709</td>\n",
              "    </tr>\n",
              "  </tbody>\n",
              "</table>\n",
              "</div>"
            ],
            "text/plain": [
              "       ID     Upvotes\n",
              "0  366953  217.066702\n",
              "1   71864   94.530127\n",
              "2  141692   43.460356\n",
              "3  316833   24.003326\n",
              "4  440445  296.334709"
            ]
          },
          "metadata": {
            "tags": []
          },
          "execution_count": 99
        }
      ]
    },
    {
      "cell_type": "code",
      "metadata": {
        "id": "Ebuveinbu-K4",
        "colab_type": "code",
        "colab": {}
      },
      "source": [
        "submission.to_csv(\"submission.csv\",index=False)"
      ],
      "execution_count": 0,
      "outputs": []
    },
    {
      "cell_type": "code",
      "metadata": {
        "id": "0Vz2INvHu-IJ",
        "colab_type": "code",
        "colab": {}
      },
      "source": [
        ""
      ],
      "execution_count": 0,
      "outputs": []
    },
    {
      "cell_type": "code",
      "metadata": {
        "id": "VpjAOJmcuLfR",
        "colab_type": "code",
        "colab": {}
      },
      "source": [
        ""
      ],
      "execution_count": 0,
      "outputs": []
    },
    {
      "cell_type": "code",
      "metadata": {
        "id": "pqd4Y56Pr5-1",
        "colab_type": "code",
        "colab": {}
      },
      "source": [
        ""
      ],
      "execution_count": 0,
      "outputs": []
    }
  ]
}